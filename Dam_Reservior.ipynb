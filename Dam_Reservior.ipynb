{
 "cells": [
  {
   "cell_type": "markdown",
   "metadata": {},
   "source": [
    "#THIS APPROACH TAKES THE INPUT FROM USER AND EXECUTES.\n"
   ]
  },
  {
   "cell_type": "code",
   "execution_count": 1,
   "metadata": {},
   "outputs": [
    {
     "name": "stdout",
     "output_type": "stream",
     "text": [
      "capacity:250e100\n",
      "present capacity:199.5e85\n",
      "rain volume:25e8\n",
      "enter the % of water went useless:25\n",
      "the rain water which reached the reservior is 75 %\n",
      "enter i for inc values,r for reduce values,d for done\n",
      "i\n",
      "enter inc percent15\n",
      "water level increased by 2.9925e+86 cubic meter\n",
      "enter i for inc values,r for reduce values,d for done\n",
      "i\n",
      "enter inc percent5\n",
      "water level increased by 1.147125e+86 cubic meter\n",
      "enter i for inc values,r for reduce values,d for done\n",
      "r\n",
      "enter dec percent5\n",
      "water level increased by 1.2044812499999999e+86 cubic meter\n",
      "enter i for inc values,r for reduce values,d for done\n",
      "r\n",
      "enter dec percent15\n",
      "water level increased by 3.4327715624999995e+86 cubic meter\n",
      "enter i for inc values,r for reduce values,d for done\n",
      "d\n",
      "THE EMPTY SPACE IN RESERVIOR IS 2.499999999999998e+102\n",
      "CURRENT RESERVIOR WATER LEVEL IS 1.94523721875e+87 cubic meter\n"
     ]
    }
   ],
   "source": [
    "def amt_frm_per(per,capaci):#function to convert percentage to the number format\n",
    "    value=per/100*capaci\n",
    "    return value\n",
    "      \n",
    "capacity=float(input('capacity:'))#TOTAL CAPACITY IS TAKEN HERE\n",
    "present_cap=float(input('present capacity:'))#THE PRESENT CAPACITY\n",
    "rain_vol=float(input(\"rain volume:\"))#RAIN VOLUME IS READ HERE\n",
    "wasted=int(input(\"enter the % of water went useless:\"))\n",
    "beta=100-wasted#calculates the amount of water went to reservior\n",
    "print(\"the rain water which reached the reservior is\",beta,\"%\")\n",
    "alpha=amt_frm_per(beta,rain_vol)#function call made here\n",
    "#print(alpha)\n",
    "present_cap+=alpha # the returned values is added to the present capacity of reservior\n",
    "#print(present_cap)\n",
    "i=5\n",
    "while(i>0):\n",
    "    check=input(\"enter i for inc values,r for reduce values,d for done\\n\")\n",
    "    check.lower()\n",
    "    #BASED ON I-INCREASE ,R-REDUCE-D-DONE, THE EXECUTION GOES ON TO CALCULATE THE CORRESPONDING INC/DEC IN THE WATER LEVEL\n",
    "    #AT EACH CONDITION STATEMENT A %VALUE IS READ AND THEN THE AMOUNT OF WATER IS CALCUALTED\n",
    "    #SUCH THAT IT WILL BE ADDED/SUBTRACTED FROM THE PRESENT VOLUME\n",
    "    if(check==\"i\"):\n",
    "        inc=int(input(\"enter inc percent\"))\n",
    "        aa=amt_frm_per(inc,present_cap)#function call\n",
    "        print(\"water level increased by\",aa ,\"cubic meter\")\n",
    "        present_cap+=aa#values added to present capacity\n",
    "    \n",
    "    elif(check==\"r\"):\n",
    "        dec=int(input(\"enter dec percent\"))\n",
    "        aaa=amt_frm_per(dec,present_cap)\n",
    "        print(\"water level increased by\",aaa, \"cubic meter\")\n",
    "       #print(aaa)\n",
    "        present_cap-=aaa\n",
    "    elif(check==\"d\"):\n",
    "        if(present_cap<=capacity):\n",
    "            print(\"THE EMPTY SPACE IN RESERVIOR IS\",(capacity-present_cap))\n",
    "            print(\"CURRENT RESERVIOR WATER LEVEL IS\",round(present_cap,2),\"cubic meter\")\n",
    "    i=i-1\n",
    "\n",
    "\n",
    "\n",
    "\n",
    "\n",
    "\n",
    "    \n",
    "    \n",
    "    "
   ]
  },
  {
   "cell_type": "code",
   "execution_count": 8,
   "metadata": {},
   "outputs": [
    {
     "name": "stdout",
     "output_type": "stream",
     "text": [
      "The Current Reservior level is: 1.94523721875e+87cu\n"
     ]
    }
   ],
   "source": [
    "#in this approach the values are given in the code\n",
    "capacity=250e100\n",
    "present_capacity=199.5e85\n",
    "rain_volume=25e8\n",
    "rain_waste=25\n",
    "present_capacity+=(75/100)*rain_volume\n",
    "inc1=15\n",
    "present_capacity+=(inc1/100)*present_capacity\n",
    "inc2=5\n",
    "present_capacity+=(inc2/100)*present_capacity\n",
    "dec1=5\n",
    "present_capacity-=(dec1/100)*present_capacity\n",
    "dec2=15\n",
    "present_capacity-=(dec2/100)*present_capacity\n",
    "print(\"The Current Reservior level is:\",str(present_capacity)+\"cu\")\n",
    "\n",
    "\n",
    "\n"
   ]
  },
  {
   "cell_type": "code",
   "execution_count": null,
   "metadata": {},
   "outputs": [],
   "source": []
  }
 ],
 "metadata": {
  "kernelspec": {
   "display_name": "Python 3",
   "language": "python",
   "name": "python3"
  },
  "language_info": {
   "codemirror_mode": {
    "name": "ipython",
    "version": 3
   },
   "file_extension": ".py",
   "mimetype": "text/x-python",
   "name": "python",
   "nbconvert_exporter": "python",
   "pygments_lexer": "ipython3",
   "version": "3.7.3"
  }
 },
 "nbformat": 4,
 "nbformat_minor": 2
}
