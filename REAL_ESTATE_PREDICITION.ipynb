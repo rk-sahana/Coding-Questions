{
 "cells": [
  {
   "cell_type": "markdown",
   "metadata": {},
   "source": [
    "# Linear Regression with Python\n",
    "\n",
    "PROBLEM STATEMENT:\n",
    "Your neighbor is a real estate agent and wants some help predicting housing prices for regions in the USA. It would be great if you could somehow create a model for her that allows her to put in a few features of a house and returns back an estimate of what the house would sell for.\n",
    "\n",
    "She has asked you if you could help her out with your new data science skills. You say yes, and decide that Linear Regression might be a good path to solve this problem!\n",
    "\n",
    "Your neighbor then gives you some information about a bunch of houses in regions of the United States,it is all in the data set: USA_Housing.csv."
   ]
  },
  {
   "cell_type": "code",
   "execution_count": 1,
   "metadata": {},
   "outputs": [],
   "source": [
    "#Necessary libraries are imported\n",
    "import pandas as pd"
   ]
  },
  {
   "cell_type": "code",
   "execution_count": 2,
   "metadata": {},
   "outputs": [],
   "source": [
    "#Load dataset\n",
    "data=pd.read_csv(\"USA_Housing.csv - USA_Housing.csv\");"
   ]
  },
  {
   "cell_type": "code",
   "execution_count": 3,
   "metadata": {},
   "outputs": [
    {
     "name": "stdout",
     "output_type": "stream",
     "text": [
      "   Avg. Area Income  Avg. Area House Age  Avg. Area Number of Rooms  \\\n",
      "0       79545.45857             5.682861                   7.009188   \n",
      "1       79248.64245             6.002900                   6.730821   \n",
      "2       61287.06718             5.865890                   8.512727   \n",
      "3       63345.24005             7.188236                   5.586729   \n",
      "4       59982.19723             5.040555                   7.839388   \n",
      "\n",
      "   Avg. Area Number of Bedrooms  Area Population         Price  \\\n",
      "0                          4.09      23086.80050  1.059034e+06   \n",
      "1                          3.09      40173.07217  1.505891e+06   \n",
      "2                          5.13      36882.15940  1.058988e+06   \n",
      "3                          3.26      34310.24283  1.260617e+06   \n",
      "4                          4.23      26354.10947  6.309435e+05   \n",
      "\n",
      "                                             Address  \n",
      "0  208 Michael Ferry Apt. 674\\nLaurabury, NE 3701...  \n",
      "1  188 Johnson Views Suite 079\\nLake Kathleen, CA...  \n",
      "2  9127 Elizabeth Stravenue\\nDanieltown, WI 06482...  \n",
      "3                          USS Barnett\\nFPO AP 44820  \n",
      "4                         USNS Raymond\\nFPO AE 09386  \n"
     ]
    }
   ],
   "source": [
    "#Checking the top most 5 values\n",
    "print(data.head());"
   ]
  },
  {
   "cell_type": "code",
   "execution_count": 4,
   "metadata": {},
   "outputs": [
    {
     "name": "stdout",
     "output_type": "stream",
     "text": [
      "<class 'pandas.core.frame.DataFrame'>\n",
      "RangeIndex: 5000 entries, 0 to 4999\n",
      "Data columns (total 7 columns):\n",
      "Avg. Area Income                5000 non-null float64\n",
      "Avg. Area House Age             5000 non-null float64\n",
      "Avg. Area Number of Rooms       5000 non-null float64\n",
      "Avg. Area Number of Bedrooms    5000 non-null float64\n",
      "Area Population                 5000 non-null float64\n",
      "Price                           5000 non-null float64\n",
      "Address                         5000 non-null object\n",
      "dtypes: float64(6), object(1)\n",
      "memory usage: 273.5+ KB\n"
     ]
    }
   ],
   "source": [
    "#Dataframe information\n",
    "data.info()"
   ]
  },
  {
   "cell_type": "code",
   "execution_count": 5,
   "metadata": {},
   "outputs": [
    {
     "name": "stdout",
     "output_type": "stream",
     "text": [
      "      Avg. Area Income  Avg. Area House Age  Avg. Area Number of Rooms  \\\n",
      "4995       60567.94414             7.830362                   6.137356   \n",
      "4996       78491.27543             6.999135                   6.576763   \n",
      "4997       63390.68689             7.250591                   4.805081   \n",
      "4998       68001.33124             5.534388                   7.130144   \n",
      "4999       65510.58180             5.992305                   6.792336   \n",
      "\n",
      "      Avg. Area Number of Bedrooms  Area Population        Price  \\\n",
      "4995                          3.46      22837.36103  1060193.786   \n",
      "4996                          4.02      25616.11549  1482617.729   \n",
      "4997                          2.13      33266.14549  1030729.583   \n",
      "4998                          5.44      42625.62016  1198656.872   \n",
      "4999                          4.07      46501.28380  1298950.480   \n",
      "\n",
      "                                                Address  \n",
      "4995                   USNS Williams\\nFPO AP 30153-7653  \n",
      "4996              PSC 9258, Box 8489\\nAPO AA 42991-3352  \n",
      "4997  4215 Tracy Garden Suite 076\\nJoshualand, VA 01...  \n",
      "4998                          USS Wallace\\nFPO AE 73316  \n",
      "4999  37778 George Ridges Apt. 509\\nEast Holly, NV 2...  \n"
     ]
    }
   ],
   "source": [
    "#Checking the last  5 values\n",
    "print(data.tail());"
   ]
  },
  {
   "cell_type": "code",
   "execution_count": 6,
   "metadata": {},
   "outputs": [
    {
     "name": "stdout",
     "output_type": "stream",
     "text": [
      "      Avg. Area Income  Avg. Area House Age  Avg. Area Number of Rooms  \\\n",
      "0          79545.45857             5.682861                   7.009188   \n",
      "1          79248.64245             6.002900                   6.730821   \n",
      "2          61287.06718             5.865890                   8.512727   \n",
      "3          63345.24005             7.188236                   5.586729   \n",
      "4          59982.19723             5.040555                   7.839388   \n",
      "5          80175.75416             4.988408                   6.104512   \n",
      "6          64698.46343             6.025336                   8.147760   \n",
      "7          78394.33928             6.989780                   6.620478   \n",
      "8          59927.66081             5.362126                   6.393121   \n",
      "9          81885.92718             4.423672                   8.167688   \n",
      "10         80527.47208             8.093513                   5.042747   \n",
      "11         50593.69550             4.496513                   7.467627   \n",
      "12         39033.80924             7.671755                   7.250029   \n",
      "13         73163.66344             6.919535                   5.993188   \n",
      "14         69391.38018             5.344776                   8.406418   \n",
      "15         73091.86675             5.443156                   8.517513   \n",
      "16         79706.96306             5.067890                   8.219771   \n",
      "17         61929.07702             4.788550                   5.097010   \n",
      "18         63508.19430             5.947165                   7.187774   \n",
      "19         62085.27640             5.739411                   7.091808   \n",
      "20         86294.99909             6.627457                   8.011898   \n",
      "21         60835.08998             5.551222                   6.517175   \n",
      "22         64490.65027             4.210323                   5.478088   \n",
      "23         60697.35154             6.170484                   7.150537   \n",
      "24         59748.85549             5.339340                   7.748682   \n",
      "25         56974.47654             8.287562                   7.312880   \n",
      "26         82173.62608             4.018525                   6.992699   \n",
      "27         64626.88098             5.443360                   6.988754   \n",
      "28         90499.05745             6.384359                   4.242191   \n",
      "29         59323.79210             6.977828                   8.273697   \n",
      "...                ...                  ...                        ...   \n",
      "4970       55980.20481             7.014510                   5.458789   \n",
      "4971       73491.13443             5.784430                   4.425959   \n",
      "4972       83695.27238             7.643507                   7.127219   \n",
      "4973       78743.75927             6.583685                   6.595683   \n",
      "4974       70720.29646             6.411801                   5.048128   \n",
      "4975       54037.58088             8.471765                   6.966072   \n",
      "4976       75046.31379             5.351169                   7.797825   \n",
      "4977       75980.43884             6.583105                   5.914892   \n",
      "4978       80393.33950             8.899713                   5.652974   \n",
      "4979       82224.69501             5.434087                   8.375708   \n",
      "4980       75664.02448             5.789203                   6.415312   \n",
      "4981       71663.87129             6.150745                   7.311907   \n",
      "4982       58800.90877             5.976507                   7.304051   \n",
      "4983       69655.18395             7.721100                   6.077795   \n",
      "4984       62623.35983             5.071624                   6.771015   \n",
      "4985       75117.04295             6.036275                   6.538111   \n",
      "4986       71060.40601             5.718839                   7.222730   \n",
      "4987       65729.22233             6.237787                   6.860475   \n",
      "4988       67637.84067             7.056673                   5.774409   \n",
      "4989       47965.40690             5.694638                   7.363327   \n",
      "4990       52723.87656             5.452237                   8.124571   \n",
      "4991       74102.19189             5.657841                   7.683993   \n",
      "4992       87499.12574             6.403473                   4.836091   \n",
      "4993       69639.14090             5.007510                   7.778375   \n",
      "4994       73060.84623             5.293682                   6.312253   \n",
      "4995       60567.94414             7.830362                   6.137356   \n",
      "4996       78491.27543             6.999135                   6.576763   \n",
      "4997       63390.68689             7.250591                   4.805081   \n",
      "4998       68001.33124             5.534388                   7.130144   \n",
      "4999       65510.58180             5.992305                   6.792336   \n",
      "\n",
      "      Avg. Area Number of Bedrooms  Area Population         Price  \n",
      "0                             4.09      23086.80050  1.059034e+06  \n",
      "1                             3.09      40173.07217  1.505891e+06  \n",
      "2                             5.13      36882.15940  1.058988e+06  \n",
      "3                             3.26      34310.24283  1.260617e+06  \n",
      "4                             4.23      26354.10947  6.309435e+05  \n",
      "5                             4.04      26748.42842  1.068138e+06  \n",
      "6                             3.41      60828.24909  1.502056e+06  \n",
      "7                             2.42      36516.35897  1.573937e+06  \n",
      "8                             2.30      29387.39600  7.988695e+05  \n",
      "9                             6.10      40149.96575  1.545155e+06  \n",
      "10                            4.10      47224.35984  1.707046e+06  \n",
      "11                            4.49      34343.99189  6.637324e+05  \n",
      "12                            3.10      39220.36147  1.042814e+06  \n",
      "13                            2.27      32326.12314  1.291332e+06  \n",
      "14                            4.37      35521.29403  1.402818e+06  \n",
      "15                            4.01      23929.52405  1.306675e+06  \n",
      "16                            3.12      39717.81358  1.556787e+06  \n",
      "17                            4.30      24595.90150  5.284852e+05  \n",
      "18                            5.12      35719.65305  1.019426e+06  \n",
      "19                            5.49      44922.10670  1.030591e+06  \n",
      "20                            4.07      47560.77534  2.146925e+06  \n",
      "21                            2.10      45574.74166  9.292476e+05  \n",
      "22                            4.31      40358.96011  7.188872e+05  \n",
      "23                            6.34      28140.96709  7.439998e+05  \n",
      "24                            4.23      27809.98654  8.957371e+05  \n",
      "25                            4.33      40694.86951  1.453975e+06  \n",
      "26                            2.03      38853.91807  1.125693e+06  \n",
      "27                            4.00      27784.74228  9.754295e+05  \n",
      "28                            3.04      33970.16499  1.240764e+06  \n",
      "29                            4.07      37520.65773  1.577018e+06  \n",
      "...                            ...              ...           ...  \n",
      "4970                          2.11      43968.68705  1.120943e+06  \n",
      "4971                          3.37      30800.54106  1.111307e+06  \n",
      "4972                          5.05      33113.75906  1.736402e+06  \n",
      "4973                          4.07      24381.14454  1.340770e+06  \n",
      "4974                          3.01      19114.01925  8.013486e+05  \n",
      "4975                          3.27      28696.17086  1.324382e+06  \n",
      "4976                          5.23      34107.88862  1.340344e+06  \n",
      "4977                          3.23      40394.59349  1.518478e+06  \n",
      "4978                          4.04      39547.93249  1.910585e+06  \n",
      "4979                          3.12      57166.86751  1.823498e+06  \n",
      "4980                          2.02      54724.25127  1.406865e+06  \n",
      "4981                          6.33      24109.77806  1.203850e+06  \n",
      "4982                          6.43      37426.70975  1.020096e+06  \n",
      "4983                          4.29      32902.35558  1.194357e+06  \n",
      "4984                          3.33      50985.97120  1.211900e+06  \n",
      "4985                          2.22      43976.03106  1.378938e+06  \n",
      "4986                          4.34      34814.58559  1.260241e+06  \n",
      "4987                          3.12      25573.85429  1.197073e+06  \n",
      "4988                          3.05      43846.53134  1.275143e+06  \n",
      "4989                          5.40      46071.94734  8.852050e+05  \n",
      "4990                          6.39      14802.08844  4.795006e+05  \n",
      "4991                          3.13      24041.27059  1.263721e+06  \n",
      "4992                          4.02      40815.19968  1.568701e+06  \n",
      "4993                          6.05      54056.12843  1.381831e+06  \n",
      "4994                          4.16      22695.69548  9.053549e+05  \n",
      "4995                          3.46      22837.36103  1.060194e+06  \n",
      "4996                          4.02      25616.11549  1.482618e+06  \n",
      "4997                          2.13      33266.14549  1.030730e+06  \n",
      "4998                          5.44      42625.62016  1.198657e+06  \n",
      "4999                          4.07      46501.28380  1.298950e+06  \n",
      "\n",
      "[5000 rows x 6 columns]\n"
     ]
    }
   ],
   "source": [
    "#Drop any unnecessary column(s)\n",
    "data.drop('Address', axis=1,inplace=True)\n",
    "print(data)\n"
   ]
  },
  {
   "cell_type": "code",
   "execution_count": 7,
   "metadata": {},
   "outputs": [
    {
     "data": {
      "text/plain": [
       "<seaborn.axisgrid.PairGrid at 0x240cf664c88>"
      ]
     },
     "execution_count": 7,
     "metadata": {},
     "output_type": "execute_result"
    }
   ],
   "source": [
    "#PAIRPLOT\n",
    "import seaborn as sb\n",
    "sb.pairplot(data)"
   ]
  },
  {
   "cell_type": "code",
   "execution_count": 8,
   "metadata": {},
   "outputs": [
    {
     "data": {
      "text/plain": [
       "<matplotlib.collections.PathCollection at 0x240d356f940>"
      ]
     },
     "execution_count": 8,
     "metadata": {},
     "output_type": "execute_result"
    },
    {
     "data": {
      "image/png": "[encoded data removed]",
      "text/plain": [
       "<Figure size 432x288 with 1 Axes>"
      ]
     },
     "metadata": {
      "needs_background": "light"
     },
     "output_type": "display_data"
    }
   ],
   "source": [
    "#Sscatter plot\n",
    "import matplotlib.pyplot as plt\n",
    "plt.scatter(data['Avg. Area Income'],data['Price'])\n"
   ]
  },
  {
   "cell_type": "code",
   "execution_count": 9,
   "metadata": {},
   "outputs": [
    {
     "data": {
      "text/plain": [
       "<matplotlib.axes._subplots.AxesSubplot at 0x240d35b0080>"
      ]
     },
     "execution_count": 9,
     "metadata": {},
     "output_type": "execute_result"
    },
    {
     "data": {
      "image/png": "[encoded data removed]",
      "text/plain": [
       "<Figure size 432x288 with 2 Axes>"
      ]
     },
     "metadata": {
      "needs_background": "light"
     },
     "output_type": "display_data"
    }
   ],
   "source": [
    "#HEAT MAP\n",
    "#LIB:SEABORN\n",
    "#CLASS:HEATMAP\n",
    "import seaborn as sb\n",
    "#sb.heatmap(data)\n",
    "#to customize it we use correlation matrix\n",
    "sb.heatmap(data.corr(),annot=True)\n",
    "#annot-co-efficeint relation values"
   ]
  },
  {
   "cell_type": "code",
   "execution_count": 23,
   "metadata": {},
   "outputs": [
    {
     "name": "stdout",
     "output_type": "stream",
     "text": [
      "      Avg. Area Income  Avg. Area House Age  Avg. Area Number of Rooms  \\\n",
      "0          79545.45857             5.682861                   7.009188   \n",
      "1          79248.64245             6.002900                   6.730821   \n",
      "2          61287.06718             5.865890                   8.512727   \n",
      "3          63345.24005             7.188236                   5.586729   \n",
      "4          59982.19723             5.040555                   7.839388   \n",
      "5          80175.75416             4.988408                   6.104512   \n",
      "6          64698.46343             6.025336                   8.147760   \n",
      "7          78394.33928             6.989780                   6.620478   \n",
      "8          59927.66081             5.362126                   6.393121   \n",
      "9          81885.92718             4.423672                   8.167688   \n",
      "10         80527.47208             8.093513                   5.042747   \n",
      "11         50593.69550             4.496513                   7.467627   \n",
      "12         39033.80924             7.671755                   7.250029   \n",
      "13         73163.66344             6.919535                   5.993188   \n",
      "14         69391.38018             5.344776                   8.406418   \n",
      "15         73091.86675             5.443156                   8.517513   \n",
      "16         79706.96306             5.067890                   8.219771   \n",
      "17         61929.07702             4.788550                   5.097010   \n",
      "18         63508.19430             5.947165                   7.187774   \n",
      "19         62085.27640             5.739411                   7.091808   \n",
      "20         86294.99909             6.627457                   8.011898   \n",
      "21         60835.08998             5.551222                   6.517175   \n",
      "22         64490.65027             4.210323                   5.478088   \n",
      "23         60697.35154             6.170484                   7.150537   \n",
      "24         59748.85549             5.339340                   7.748682   \n",
      "25         56974.47654             8.287562                   7.312880   \n",
      "26         82173.62608             4.018525                   6.992699   \n",
      "27         64626.88098             5.443360                   6.988754   \n",
      "28         90499.05745             6.384359                   4.242191   \n",
      "29         59323.79210             6.977828                   8.273697   \n",
      "...                ...                  ...                        ...   \n",
      "4970       55980.20481             7.014510                   5.458789   \n",
      "4971       73491.13443             5.784430                   4.425959   \n",
      "4972       83695.27238             7.643507                   7.127219   \n",
      "4973       78743.75927             6.583685                   6.595683   \n",
      "4974       70720.29646             6.411801                   5.048128   \n",
      "4975       54037.58088             8.471765                   6.966072   \n",
      "4976       75046.31379             5.351169                   7.797825   \n",
      "4977       75980.43884             6.583105                   5.914892   \n",
      "4978       80393.33950             8.899713                   5.652974   \n",
      "4979       82224.69501             5.434087                   8.375708   \n",
      "4980       75664.02448             5.789203                   6.415312   \n",
      "4981       71663.87129             6.150745                   7.311907   \n",
      "4982       58800.90877             5.976507                   7.304051   \n",
      "4983       69655.18395             7.721100                   6.077795   \n",
      "4984       62623.35983             5.071624                   6.771015   \n",
      "4985       75117.04295             6.036275                   6.538111   \n",
      "4986       71060.40601             5.718839                   7.222730   \n",
      "4987       65729.22233             6.237787                   6.860475   \n",
      "4988       67637.84067             7.056673                   5.774409   \n",
      "4989       47965.40690             5.694638                   7.363327   \n",
      "4990       52723.87656             5.452237                   8.124571   \n",
      "4991       74102.19189             5.657841                   7.683993   \n",
      "4992       87499.12574             6.403473                   4.836091   \n",
      "4993       69639.14090             5.007510                   7.778375   \n",
      "4994       73060.84623             5.293682                   6.312253   \n",
      "4995       60567.94414             7.830362                   6.137356   \n",
      "4996       78491.27543             6.999135                   6.576763   \n",
      "4997       63390.68689             7.250591                   4.805081   \n",
      "4998       68001.33124             5.534388                   7.130144   \n",
      "4999       65510.58180             5.992305                   6.792336   \n",
      "\n",
      "      Area Population         Price  \n",
      "0         23086.80050  1.059034e+06  \n",
      "1         40173.07217  1.505891e+06  \n",
      "2         36882.15940  1.058988e+06  \n",
      "3         34310.24283  1.260617e+06  \n",
      "4         26354.10947  6.309435e+05  \n",
      "5         26748.42842  1.068138e+06  \n",
      "6         60828.24909  1.502056e+06  \n",
      "7         36516.35897  1.573937e+06  \n",
      "8         29387.39600  7.988695e+05  \n",
      "9         40149.96575  1.545155e+06  \n",
      "10        47224.35984  1.707046e+06  \n",
      "11        34343.99189  6.637324e+05  \n",
      "12        39220.36147  1.042814e+06  \n",
      "13        32326.12314  1.291332e+06  \n",
      "14        35521.29403  1.402818e+06  \n",
      "15        23929.52405  1.306675e+06  \n",
      "16        39717.81358  1.556787e+06  \n",
      "17        24595.90150  5.284852e+05  \n",
      "18        35719.65305  1.019426e+06  \n",
      "19        44922.10670  1.030591e+06  \n",
      "20        47560.77534  2.146925e+06  \n",
      "21        45574.74166  9.292476e+05  \n",
      "22        40358.96011  7.188872e+05  \n",
      "23        28140.96709  7.439998e+05  \n",
      "24        27809.98654  8.957371e+05  \n",
      "25        40694.86951  1.453975e+06  \n",
      "26        38853.91807  1.125693e+06  \n",
      "27        27784.74228  9.754295e+05  \n",
      "28        33970.16499  1.240764e+06  \n",
      "29        37520.65773  1.577018e+06  \n",
      "...               ...           ...  \n",
      "4970      43968.68705  1.120943e+06  \n",
      "4971      30800.54106  1.111307e+06  \n",
      "4972      33113.75906  1.736402e+06  \n",
      "4973      24381.14454  1.340770e+06  \n",
      "4974      19114.01925  8.013486e+05  \n",
      "4975      28696.17086  1.324382e+06  \n",
      "4976      34107.88862  1.340344e+06  \n",
      "4977      40394.59349  1.518478e+06  \n",
      "4978      39547.93249  1.910585e+06  \n",
      "4979      57166.86751  1.823498e+06  \n",
      "4980      54724.25127  1.406865e+06  \n",
      "4981      24109.77806  1.203850e+06  \n",
      "4982      37426.70975  1.020096e+06  \n",
      "4983      32902.35558  1.194357e+06  \n",
      "4984      50985.97120  1.211900e+06  \n",
      "4985      43976.03106  1.378938e+06  \n",
      "4986      34814.58559  1.260241e+06  \n",
      "4987      25573.85429  1.197073e+06  \n",
      "4988      43846.53134  1.275143e+06  \n",
      "4989      46071.94734  8.852050e+05  \n",
      "4990      14802.08844  4.795006e+05  \n",
      "4991      24041.27059  1.263721e+06  \n",
      "4992      40815.19968  1.568701e+06  \n",
      "4993      54056.12843  1.381831e+06  \n",
      "4994      22695.69548  9.053549e+05  \n",
      "4995      22837.36103  1.060194e+06  \n",
      "4996      25616.11549  1.482618e+06  \n",
      "4997      33266.14549  1.030730e+06  \n",
      "4998      42625.62016  1.198657e+06  \n",
      "4999      46501.28380  1.298950e+06  \n",
      "\n",
      "[5000 rows x 5 columns]\n"
     ]
    }
   ],
   "source": [
    "#From the HEATMAP,we can say that the 'Avg. Area Number of Bedrooms' and 'Avg. Area Number ofRoooms' has higher co-relation,and when we comapre the both with \n",
    "#price(our target)It is seen that the 'Avg. Area Number of Bedrooms',so this attribute can be droppped.\n",
    "#we drop the bedroom column,as \n",
    "data.drop('Avg. Area Number of Bedrooms',axis=1,inplace=True)\n",
    "print(data)"
   ]
  },
  {
   "cell_type": "code",
   "execution_count": 24,
   "metadata": {},
   "outputs": [],
   "source": [
    "#Splitting the concept and target\n",
    "x=data.iloc[:,:-1].values\n",
    "y=data.iloc[:,4].values\n"
   ]
  },
  {
   "cell_type": "markdown",
   "metadata": {},
   "source": [
    "Train Test Split\n",
    "Now let's split the data into a training set and a testing set. We will train out model on the training set and then use the test set to evaluate the model.\n",
    "\n"
   ]
  },
  {
   "cell_type": "code",
   "execution_count": 25,
   "metadata": {},
   "outputs": [],
   "source": [
    "#Import necessary module\n",
    "from sklearn.model_selection import train_test_split as tts\n"
   ]
  },
  {
   "cell_type": "code",
   "execution_count": 26,
   "metadata": {},
   "outputs": [
    {
     "name": "stdout",
     "output_type": "stream",
     "text": [
      "[[7.70988689e+04 7.75739033e+00 6.24675884e+00 4.64785216e+04]\n",
      " [7.54870326e+04 6.45393168e+00 7.73709568e+00 4.11053906e+04]\n",
      " [7.23178087e+04 6.18052240e+00 6.27467288e+00 4.39114817e+04]\n",
      " ...\n",
      " [6.06988155e+04 7.95104585e+00 6.22580198e+00 4.84953197e+04]\n",
      " [8.12200706e+04 6.26801001e+00 6.77698348e+00 3.28595177e+04]\n",
      " [7.54749733e+04 8.44946816e+00 7.20651695e+00 2.40346283e+04]]\n"
     ]
    }
   ],
   "source": [
    "#Create train and test arrays\n",
    "x_train,x_test,y_train,y_test=tts(x,y)\n",
    "print(x_train)"
   ]
  },
  {
   "cell_type": "code",
   "execution_count": 27,
   "metadata": {},
   "outputs": [],
   "source": [
    "#ALGORITHM:LINEAR REGRESSION\n",
    "from sklearn.linear_model import LinearRegression \n",
    "#creating object\n",
    "mod_lr=LinearRegression()"
   ]
  },
  {
   "cell_type": "code",
   "execution_count": 28,
   "metadata": {},
   "outputs": [
    {
     "data": {
      "text/plain": [
       "LinearRegression(copy_X=True, fit_intercept=True, n_jobs=None, normalize=False)"
      ]
     },
     "execution_count": 28,
     "metadata": {},
     "output_type": "execute_result"
    }
   ],
   "source": [
    "#we train the algorithm\n",
    "mod_lr.fit(x_train,y_train)"
   ]
  },
  {
   "cell_type": "code",
   "execution_count": 29,
   "metadata": {},
   "outputs": [],
   "source": [
    "#we predict\n",
    "predictions=mod_lr.predict(x_test)"
   ]
  },
  {
   "cell_type": "code",
   "execution_count": 30,
   "metadata": {},
   "outputs": [
    {
     "name": "stdout",
     "output_type": "stream",
     "text": [
      "Accuracy 0.9150611702113411\n"
     ]
    }
   ],
   "source": [
    "#Testing the accuracy of the model\n",
    "logaccuracy=mod_lr.score(x_test,y_test)\n",
    "print(\"Accuracy\",logaccuracy)"
   ]
  },
  {
   "cell_type": "code",
   "execution_count": 31,
   "metadata": {},
   "outputs": [
    {
     "name": "stdout",
     "output_type": "stream",
     "text": [
      "Intercept: -2648675.041734921\n"
     ]
    }
   ],
   "source": [
    "#Linear Regression : y=mx+c where m-slope and c-intercept\n",
    "#Print the intercept\n",
    "#SYNTAX: MODELNAME.intercept_\n",
    "print('Intercept:',mod_lr.intercept_) "
   ]
  },
  {
   "cell_type": "code",
   "execution_count": 32,
   "metadata": {},
   "outputs": [
    {
     "name": "stdout",
     "output_type": "stream",
     "text": [
      "Slope: [2.16748899e+01 1.65349948e+05 1.22193085e+05 1.52337828e+01]\n"
     ]
    }
   ],
   "source": [
    "#Check the slope aka co-efficient\n",
    "#Library: pandas\n",
    "#Class  : DataFrame\n",
    "#Argument:MODELNAME.coef_\n",
    "#Other arguments might also be necessary\n",
    "print('Slope:' ,mod_lr.coef_) "
   ]
  },
  {
   "cell_type": "markdown",
   "metadata": {},
   "source": [
    "# Regression Evaluation Metrics\n",
    "Here are three common evaluation metrics for regression problems:\n",
    "\n",
    "Mean Absolute Error (MAE) is the mean of the absolute value of the errors:\n",
    "\n",
    "1𝑛∑𝑖=1𝑛|𝑦𝑖−𝑦̂ 𝑖|\n",
    " \n",
    "Mean Squared Error (MSE) is the mean of the squared errors:\n",
    "\n",
    "1𝑛∑𝑖=1𝑛(𝑦𝑖−𝑦̂ 𝑖)2\n",
    " \n",
    "Root Mean Squared Error (RMSE) is the square root of the mean of the squared errors:\n",
    "\n",
    "1𝑛∑𝑖=1𝑛(𝑦𝑖−𝑦̂ 𝑖)2⎯⎯⎯⎯⎯⎯⎯⎯⎯⎯⎯⎯⎯⎯⎯⎯⎯⎯⎯⎯⎯⎯⎯⎯\n",
    " \n",
    "Comparing these metrics:\n",
    "\n",
    "MAE is the easiest to understand, because it's the average error.\n",
    "MSE is more popular than MAE, because MSE \"punishes\" larger errors, which tends to be useful in the real world.\n",
    "RMSE is even more popular than MSE, because RMSE is interpretable in the \"y\" units.\n",
    "All of these are loss functions, because we want to minimize them.\n"
   ]
  },
  {
   "cell_type": "code",
   "execution_count": 33,
   "metadata": {},
   "outputs": [],
   "source": [
    "from sklearn import metrics\n",
    "import numpy as np"
   ]
  },
  {
   "cell_type": "code",
   "execution_count": 34,
   "metadata": {},
   "outputs": [
    {
     "name": "stdout",
     "output_type": "stream",
     "text": [
      "MAE: 79809.4473131967\n",
      "MSE: 10012031714.13964\n",
      "RMSE: 100060.14048630773\n"
     ]
    }
   ],
   "source": [
    "print('MAE:', metrics.mean_absolute_error(y_test, predictions))\n",
    "print('MSE:', metrics.mean_squared_error(y_test, predictions))\n",
    "print('RMSE:', np.sqrt(metrics.mean_squared_error(y_test, predictions)))"
   ]
  },
  {
   "cell_type": "code",
   "execution_count": null,
   "metadata": {},
   "outputs": [],
   "source": []
  }
 ],
 "metadata": {
  "kernelspec": {
   "display_name": "Python 3",
   "language": "python",
   "name": "python3"
  },
  "language_info": {
   "codemirror_mode": {
    "name": "ipython",
    "version": 3
   },
   "file_extension": ".py",
   "mimetype": "text/x-python",
   "name": "python",
   "nbconvert_exporter": "python",
   "pygments_lexer": "ipython3",
   "version": "3.7.3"
  }
 },
 "nbformat": 4,
 "nbformat_minor": 2
}
