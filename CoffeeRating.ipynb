{
 "cells": [
  {
   "cell_type": "code",
   "execution_count": null,
   "metadata": {},
   "outputs": [],
   "source": [
    "\n",
    "print(\"Staff set a password\")\n",
    "staff=input(\"Password:\")#staff sets a password\n",
    "count=0\n",
    "sum=0\n",
    "print(\"staff can press 100 to terminate loop\")#as the number of customers giving rating is infinte\n",
    "#we will use a while loop and terminate it when staff enters 100\n",
    "print(\"Customers,kindly enter the rating of coffee from 1-5\")\n",
    "start=100\n",
    "while(start!=10):\n",
    "    rating=int(input(\"enter rating\"))\n",
    "    if(rating==100):#random statement to terminate loop\n",
    "        start=10\n",
    "        break\n",
    "        \n",
    "    elif(rating>=0 and rating<=5):#chec\n",
    "        sum=sum+rating\n",
    "        count=count+1\n",
    "    else:\n",
    "        print(\"rating out of range\")\n",
    "           \n",
    "print(\"\\n Dear Staff,kindly enter the password to see Avg\\n\")\n",
    "pas1=input(\"Password:\")\n",
    "#print(count,sum)\n",
    "if(staff==pas1):\n",
    "    avg=(sum)/count\n",
    "    print(\"Average rating is\",avg)\n",
    "else:\n",
    "    print(\"Password incorrect!acess denied\")"
   ]
  }
 ],
 "metadata": {
  "kernelspec": {
   "display_name": "Python 3",
   "language": "python",
   "name": "python3"
  },
  "language_info": {
   "codemirror_mode": {
    "name": "ipython",
    "version": 3
   },
   "file_extension": ".py",
   "mimetype": "text/x-python",
   "name": "python",
   "nbconvert_exporter": "python",
   "pygments_lexer": "ipython3",
   "version": "3.7.3"
  }
 },
 "nbformat": 4,
 "nbformat_minor": 2
}
